{
 "cells": [
  {
   "cell_type": "code",
   "execution_count": 90,
   "id": "8144660e",
   "metadata": {},
   "outputs": [],
   "source": [
    "import pandas as pd\n",
    "from sklearn.model_selection import train_test_split\n",
    "from sklearn.preprocessing import StandardScaler, LabelEncoder\n",
    "from sklearn.ensemble import RandomForestClassifier\n",
    "from sklearn.multioutput import MultiOutputClassifier\n",
    "from sklearn.metrics import classification_report\n",
    "import joblib"
   ]
  },
  {
   "cell_type": "code",
   "execution_count": 91,
   "id": "dee987d7",
   "metadata": {},
   "outputs": [],
   "source": [
    "# Load dataset\n",
    "df = pd.read_csv(\"../Datasets/vitals.csv\")\n",
    "\n",
    "# Features\n",
    "X = df[[\n",
    "    \"heart_rate\",\n",
    "    \"resp_rate\",\n",
    "    \"blood_pressure_systolic\",\n",
    "    \"blood_pressure_diastolic\",\n",
    "    \"spo2\",\n",
    "    \"temperature_c\",\n",
    "    \"glucose_mgdl\"\n",
    "]]"
   ]
  },
  {
   "cell_type": "code",
   "execution_count": 92,
   "id": "41522b27",
   "metadata": {},
   "outputs": [],
   "source": [
    "\n",
    "# Encode labels\n",
    "le_status = LabelEncoder()\n",
    "le_condition = LabelEncoder()\n",
    "\n",
    "y_status = le_status.fit_transform(df[\"label_status\"])            \n",
    "y_condition = le_condition.fit_transform(df[\"probable_condition\"])  \n",
    "\n",
    "# Combine into one DataFrame (multi-output target)\n",
    "y = pd.DataFrame({\n",
    "    \"label_status\": y_status,\n",
    "    \"probable_condition\": y_condition\n",
    "})"
   ]
  },
  {
   "cell_type": "code",
   "execution_count": 93,
   "id": "d5572297",
   "metadata": {},
   "outputs": [],
   "source": [
    "# Train-test split\n",
    "X_train, X_test, y_train, y_test = train_test_split(\n",
    "    X, y, test_size=0.2, random_state=42\n",
    ")\n"
   ]
  },
  {
   "cell_type": "code",
   "execution_count": 94,
   "id": "60c2bb88",
   "metadata": {},
   "outputs": [],
   "source": [
    "# Scale features\n",
    "scaler = StandardScaler()\n",
    "X_train = scaler.fit_transform(X_train)\n",
    "X_test = scaler.transform(X_test)\n",
    "\n"
   ]
  },
  {
   "cell_type": "code",
   "execution_count": 95,
   "id": "03b5b3ca",
   "metadata": {},
   "outputs": [
    {
     "name": "stdout",
     "output_type": "stream",
     "text": [
      "Classification Report for Label Status (Normal/Warning/Critical):\n",
      "              precision    recall  f1-score   support\n",
      "\n",
      "    Critical       0.97      1.00      0.98        30\n",
      "      Normal       0.98      1.00      0.99        56\n",
      "     Warning       1.00      0.86      0.92        14\n",
      "\n",
      "    accuracy                           0.98       100\n",
      "   macro avg       0.98      0.95      0.97       100\n",
      "weighted avg       0.98      0.98      0.98       100\n",
      "\n",
      "\n",
      "Classification Report for Probable Condition (Healthy/Not Healthy):\n",
      "              precision    recall  f1-score   support\n",
      "\n",
      "     Healthy       1.00      1.00      1.00        56\n",
      " Not Healthy       1.00      1.00      1.00        44\n",
      "\n",
      "    accuracy                           1.00       100\n",
      "   macro avg       1.00      1.00      1.00       100\n",
      "weighted avg       1.00      1.00      1.00       100\n",
      "\n"
     ]
    }
   ],
   "source": [
    "# Train model\n",
    "clf = MultiOutputClassifier(RandomForestClassifier(random_state=42))\n",
    "clf.fit(X_train, y_train)\n",
    "\n",
    "# Predictions\n",
    "y_pred = clf.predict(X_test)\n",
    "\n",
    "# Reports\n",
    "print(\"Classification Report for Label Status (Normal/Warning/Critical):\")\n",
    "print(classification_report(y_test[\"label_status\"], y_pred[:,0], target_names=le_status.classes_))\n",
    "\n",
    "print(\"\\nClassification Report for Probable Condition (Healthy/Not Healthy):\")\n",
    "print(classification_report(y_test[\"probable_condition\"], y_pred[:,1], target_names=le_condition.classes_))"
   ]
  },
  {
   "cell_type": "code",
   "execution_count": 96,
   "id": "2f2d8189",
   "metadata": {},
   "outputs": [
    {
     "name": "stdout",
     "output_type": "stream",
     "text": [
      "\n",
      "✅ Model and preprocessing objects saved successfully!\n"
     ]
    }
   ],
   "source": [
    "# --- Save model, scaler, and encoders ---\n",
    "joblib.dump(clf, \"../Models/multioutput_model.pkl\")\n",
    "joblib.dump(scaler, \"../Models/scaler.pkl\")\n",
    "joblib.dump(le_status, \"../Models/label_encoder_status.pkl\")\n",
    "joblib.dump(le_condition, \"../Models/label_encoder_condition.pkl\")\n",
    "print(\"\\n✅ Model and preprocessing objects saved successfully!\")"
   ]
  },
  {
   "cell_type": "code",
   "execution_count": 97,
   "id": "4b5ddc70",
   "metadata": {},
   "outputs": [
    {
     "name": "stdout",
     "output_type": "stream",
     "text": [
      "Accuracy (Label Status): 0.98\n",
      "Accuracy (Probable Condition): 1.00\n"
     ]
    }
   ],
   "source": [
    "accuracy_status = (y_test[\"label_status\"] == y_pred[:,0]).mean()\n",
    "accuracy_condition = (y_test[\"probable_condition\"] == y_pred[:,1]).mean()\n",
    "\n",
    "print(f\"Accuracy (Label Status): {accuracy_status:.2f}\")\n",
    "print(f\"Accuracy (Probable Condition): {accuracy_condition:.2f}\")"
   ]
  }
 ],
 "metadata": {
  "kernelspec": {
   "display_name": "backend-ai",
   "language": "python",
   "name": "python3"
  },
  "language_info": {
   "codemirror_mode": {
    "name": "ipython",
    "version": 3
   },
   "file_extension": ".py",
   "mimetype": "text/x-python",
   "name": "python",
   "nbconvert_exporter": "python",
   "pygments_lexer": "ipython3",
   "version": "3.13.5"
  }
 },
 "nbformat": 4,
 "nbformat_minor": 5
}
